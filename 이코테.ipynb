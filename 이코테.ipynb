{
  "cells": [
    {
      "cell_type": "code",
      "execution_count": 3,
      "metadata": {
        "id": "WSHayrDqzSHs"
      },
      "outputs": [],
      "source": [
        "import pandas as pd\n"
      ]
    },
    {
      "cell_type": "markdown",
      "metadata": {
        "id": "tHP3-T8my2Sy"
      },
      "source": [
        "## 13강 그리디 유형\n",
        "\n",
        "- 그리디 알고리즘(탐욕법) 은 현재 상황에서 지금 당장 좋은 것만 고르는 방법을 의미\n",
        "- 일반적인 그리디 알고리즘은 문제를 풀기위한 최소한의 아이디어를 떠올릴 수 있는 능력을 요구\n"
      ]
    },
    {
      "cell_type": "markdown",
      "metadata": {
        "id": "ZQSOQv-ny-eZ"
      },
      "source": [
        "# <문제> 거스름돈\n",
        "\n",
        "당신은 음식점의 계산을 도와주는 점원입니다. 카운터에는 거스름돈으로 사용할 500원, 100원, 50원, 10원짜리 동전이 무한히 존재한다고 가정합니다. 손님에게 거슬러 주어야 할 돈이 N원일 때, 거슬러 주어야할 동전의 최소 개수를 구하시오.\n",
        "\n",
        "단, 거슬러 줘야 할 돈 N은 항상 10의 배수 입니다.\n",
        "\n",
        "시간제한: 없음"
      ]
    },
    {
      "cell_type": "code",
      "execution_count": 31,
      "metadata": {
        "colab": {
          "base_uri": "https://localhost:8080/"
        },
        "id": "iTueo3dbzBFN",
        "outputId": "6391c801-b9d4-457a-dc93-07c6b575b402"
      },
      "outputs": [
        {
          "name": "stdout",
          "output_type": "stream",
          "text": [
            "0 10 500 10 200202\n",
            "1 10 100 10 200202\n",
            "2 10 50 10 200202\n",
            "3 0 10 0 200203\n",
            "거슬러야할 동전 갯수:  200203\n",
            "작동시간: 0.00755 sec\n"
          ]
        }
      ],
      "source": [
        "import time \n",
        "\n",
        "start = time.time()\n",
        "\n",
        "# 답안 작성 부분 ===============\n",
        "\n",
        "# n 10의 배수\n",
        "n = 100101010\n",
        "coins =[500,100,50,10]\n",
        "count = 0\n",
        "\n",
        "for i,coin in enumerate(coins):\n",
        "  \n",
        "  mok= n//coin\n",
        "  na = n%coin\n",
        "  count += mok\n",
        "  n=na\n",
        "  print(i,n,coin,na,count)\n",
        "  if na == 0: break\n",
        "  \n",
        "\n",
        "print('거슬러야할 동전 갯수: ',count)\n",
        "\n",
        "\n",
        "\n",
        "# ==============================\n",
        "\n",
        "end = time.time()\n",
        "\n",
        "print(\"작동시간:\", f\"{end - start:.5f} sec\")"
      ]
    },
    {
      "cell_type": "markdown",
      "metadata": {
        "id": "eAWuMPK45D7U"
      },
      "source": [
        "# <문제> 1이 될 때 까지\n",
        "어떠한 수 N이 1이 될 때 까지 다음의 두 과정 중 하나를 반복적으로 선택해 수행하려 한다.\n",
        "\n",
        "단, 두번째 연산은 N이 K로 나누어 떨어질 때만 선택할 수 있음\n",
        "\n",
        "1) N에서 1을 뺀다.\n",
        "\n",
        "2) N을 K로 나눈다.\n",
        "\n",
        "N이 1이 될 때 까지 1번 혹은 2번의 과정을 수행해야하는 최소 횟수를 구하는 프로그램을 작성\n",
        "\n",
        "입력\n",
        "첫째 줄에 N(2<= N <= 100000)과 K(2 <= K <= 100000)가 공백으로 구분되며 각각 자연수로 주어짐\n",
        "\n",
        "이때, 입력으로 주어지는 N은 항상 K보다 크거나 같음"
      ]
    },
    {
      "cell_type": "code",
      "execution_count": 3,
      "metadata": {
        "colab": {
          "base_uri": "https://localhost:8080/"
        },
        "id": "bzBEFrjT5HZA",
        "outputId": "9980d028-6614-4358-e041-54b666b6e4da"
      },
      "outputs": [
        {
          "ename": "ValueError",
          "evalue": "not enough values to unpack (expected 2, got 0)",
          "output_type": "error",
          "traceback": [
            "\u001b[1;31m---------------------------------------------------------------------------\u001b[0m",
            "\u001b[1;31mValueError\u001b[0m                                Traceback (most recent call last)",
            "\u001b[1;32mc:\\A\\GitHub\\algorithm_study\\이코테.ipynb 셀 6\u001b[0m in \u001b[0;36m<cell line: 4>\u001b[1;34m()\u001b[0m\n\u001b[0;32m      <a href='vscode-notebook-cell:/c%3A/A/GitHub/algorithm_study/%EC%9D%B4%EC%BD%94%ED%85%8C.ipynb#W5sZmlsZQ%3D%3D?line=0'>1</a>\u001b[0m \u001b[39mimport\u001b[39;00m \u001b[39mtime\u001b[39;00m \n\u001b[1;32m----> <a href='vscode-notebook-cell:/c%3A/A/GitHub/algorithm_study/%EC%9D%B4%EC%BD%94%ED%85%8C.ipynb#W5sZmlsZQ%3D%3D?line=3'>4</a>\u001b[0m n, k \u001b[39m=\u001b[39m \u001b[39mmap\u001b[39m(\u001b[39mint\u001b[39m,\u001b[39minput\u001b[39m()\u001b[39m.\u001b[39msplit( ))\n\u001b[0;32m      <a href='vscode-notebook-cell:/c%3A/A/GitHub/algorithm_study/%EC%9D%B4%EC%BD%94%ED%85%8C.ipynb#W5sZmlsZQ%3D%3D?line=4'>5</a>\u001b[0m start \u001b[39m=\u001b[39m time\u001b[39m.\u001b[39mtime()\n\u001b[0;32m      <a href='vscode-notebook-cell:/c%3A/A/GitHub/algorithm_study/%EC%9D%B4%EC%BD%94%ED%85%8C.ipynb#W5sZmlsZQ%3D%3D?line=6'>7</a>\u001b[0m \u001b[39m# 답안 작성 부분 ===============\u001b[39;00m\n",
            "\u001b[1;31mValueError\u001b[0m: not enough values to unpack (expected 2, got 0)"
          ]
        }
      ],
      "source": [
        "import time \n",
        "\n",
        "\n",
        "n, k = map(int,input().split( ))\n",
        "start = time.time()\n",
        "\n",
        "# 답안 작성 부분 ===============\n",
        "\n",
        "count =0\n",
        "while 1:\n",
        "    target = (n//k)*k\n",
        "    count = n - target\n",
        "    n += target\n",
        "    if n <k : break\n",
        "    count +=1\n",
        "    n//=k\n",
        "count += (n-1)\n",
        "print(count)\n",
        "\n",
        "\n",
        "# ==============================\n",
        "\n",
        "end = time.time()\n",
        "\n",
        "print(\"작동시간:\", f\"{end - start:.5f} sec\")"
      ]
    },
    {
      "cell_type": "markdown",
      "metadata": {
        "id": "Ubkqr9vNybjE"
      },
      "source": [
        "# <문제> 곱하기 혹은 더하기 : 문제 조건\n",
        "- 입력 조건 : 첫째 줄에 여러 개의 숫자로 구성된 하나의 문자열 S가 주어짐 ( 1<= S의 길이 <=20)\n",
        "- 출력 조건 : 첫째 줄에 만들어 질 수 있는 가장 큰수를 출력합니다."
      ]
    },
    {
      "cell_type": "code",
      "execution_count": 29,
      "metadata": {
        "id": "AsfXcUmwyW2e"
      },
      "outputs": [],
      "source": [
        "INPUT ='02984'"
      ]
    },
    {
      "cell_type": "code",
      "execution_count": 25,
      "metadata": {
        "id": "KLnhv8LH1qTL"
      },
      "outputs": [],
      "source": [
        "INPUT ='567'"
      ]
    },
    {
      "cell_type": "code",
      "execution_count": 30,
      "metadata": {
        "colab": {
          "base_uri": "https://localhost:8080/"
        },
        "id": "AauEo4bizKc7",
        "outputId": "9b185cce-a0b0-458a-af98-e8f6652efb44"
      },
      "outputs": [
        {
          "name": "stdout",
          "output_type": "stream",
          "text": [
            "start 1 2 0\n",
            "end 1 2 2\n",
            "start 2 9 2\n",
            "end 2 9 18\n",
            "start 3 8 18\n",
            "end 3 8 144\n",
            "start 4 4 144\n",
            "end 4 4 576\n",
            "OUTPUT 576\n"
          ]
        }
      ],
      "source": [
        "from re import S\n",
        "n = len(INPUT)\n",
        "sum = 0\n",
        "for i in range(1,n):\n",
        "  print('start',i,INPUT[i],sum)\n",
        "  if i == 1: # 시작일때\n",
        "    if int(INPUT[0]) == 0 or int(INPUT[1]) == 0: # # 현재 숫자가 0 일때 => +\n",
        "        sum = ( int(INPUT[0]) + int(INPUT[1]) )\n",
        "    else: # *\n",
        "        sum = ( int(INPUT[0]) * int(INPUT[1]) )\n",
        "  else: # 중간일때\n",
        "    if int(INPUT[i]) == 0: # 현재 숫자가 0 일때 => +\n",
        "      sum += int(INPUT[i])\n",
        "    else: # *\n",
        "      sum *= int(INPUT[i])\n",
        "  print('end',i,INPUT[i],sum)\n",
        "  \n",
        "print('OUTPUT',sum)"
      ]
    },
    {
      "cell_type": "markdown",
      "metadata": {},
      "source": [
        "# <문제> 모험가 길드"
      ]
    },
    {
      "cell_type": "markdown",
      "metadata": {},
      "source": [
        "- 한마을에 모험가 n 명 있다. 모험가 길드에서는 n명의 모험가를 대상으로 '공포도'를 측정했는데, '공포도'가 높은 모험가는 쉽게 공포를 느껴 위험 상황에서 제대로 대처할 능력이 떨어집니다.\n",
        "- 모험가 길드장인 동빈이는 모험가 그룹을 안전하게 구성하고자 공포도가 x인 모험가는 반드시 x명이상으로 구성한 모험가 그룹에 참여해야 여행을 떠날수 있도록 규정\n",
        "- 동빈이는 최대 몇개의 모험가 그룹을 만들수 있는지, n명의 모험가에 대한 정보가 주어졌을때, 여행을 떠날수 있는 그릅수의 최댓값을 구하는 프로그램"
      ]
    },
    {
      "cell_type": "code",
      "execution_count": 4,
      "metadata": {},
      "outputs": [],
      "source": [
        "n = int(input()) # 5\n",
        "data = list(map(int, input().split())) # 2 3 1 2 2\n"
      ]
    },
    {
      "cell_type": "code",
      "execution_count": 5,
      "metadata": {},
      "outputs": [
        {
          "name": "stdout",
          "output_type": "stream",
          "text": [
            "2\n"
          ]
        }
      ],
      "source": [
        "data.sort()\n",
        "\n",
        "result = 0 # 총 그룹 수\n",
        "count = 0 # 현재 그룹에 포함된 모험가의 수\n",
        "\n",
        "for i in data: # 공포도를 낮은 것 부터 하나씩 확인\n",
        "    count += 1 # 현재 그룹에 해당 모험가를 포함 시킴\n",
        "    if count >= i: # 현재 그룹에 포함된 모험가의 수가 현재의 공포도 이상이라면 그룹 결성\n",
        "        result+= 1 # 총 그룹수 증가\n",
        "        count = 0 # 현재 그룹에 포함된 모험가수 초기화\n",
        "\n",
        "print(result)"
      ]
    },
    {
      "cell_type": "code",
      "execution_count": null,
      "metadata": {},
      "outputs": [],
      "source": [
        "import time \n",
        "INPUT ='02984'\n",
        "INPUT ='567'\n",
        "\n",
        "start = time.time()\n",
        "\n",
        "# 답안 작성 부분 ===============\n",
        "from re import S\n",
        "INPUT = int(input())\n",
        "n = len(INPUT)\n",
        "sum = 0\n",
        "for i in range(1,n):\n",
        "  print('start',i,INPUT[i],sum)\n",
        "  if i == 1: # 시작일때\n",
        "    if int(INPUT[0]) == 0 or int(INPUT[1]) == 0: # # 현재 숫자가 0 일때 => +\n",
        "        sum = ( int(INPUT[0]) + int(INPUT[1]) )\n",
        "    else: # *\n",
        "        sum = ( int(INPUT[0]) * int(INPUT[1]) )\n",
        "  else: # 중간일때\n",
        "    if int(INPUT[i]) == 0: # 현재 숫자가 0 일때 => +\n",
        "      sum += int(INPUT[i])\n",
        "    else: # *\n",
        "      sum *= int(INPUT[i])\n",
        "  print('end',i,INPUT[i],sum)\n",
        "  \n",
        "print('OUTPUT',sum)\n",
        "\n",
        "\n",
        "\n",
        "# ==============================\n",
        "\n",
        "end = time.time()\n",
        "\n",
        "print(\"작동시간:\", f\"{end - start:.5f} sec\")"
      ]
    },
    {
      "cell_type": "markdown",
      "metadata": {},
      "source": [
        "## DFS/BFS"
      ]
    },
    {
      "cell_type": "markdown",
      "metadata": {},
      "source": [
        "<그래프 탐색 알고리즘 : DFS/BFS>\n",
        "- 탐색 이란 많은 양의 데이터 중에서 원하는 데이터를 찾는 과정\n",
        "- 대표적인 그래프 탐색 알고리즘 : DFS / BFS\n",
        "- DFS/BFS 는 코딩 테스트에서 매우 자주 등장하는 유형"
      ]
    },
    {
      "cell_type": "markdown",
      "metadata": {},
      "source": [
        "<스택 자료구조>\n",
        "- 먼저 들어온 데이터가 나중에 나가는 형식 (선입후출)\n",
        "- 입구와 출구가 둥일한 형태로 스택을 시각화\n",
        "- 삽입/삭제"
      ]
    },
    {
      "cell_type": "code",
      "execution_count": null,
      "metadata": {},
      "outputs": [],
      "source": [
        "stack = []\n",
        "\n",
        "stack.append(1)\n",
        "stack.pop()\n",
        "\n",
        "print(stack[::-1]) # 최상단 원소 부터 출력\n",
        "print(stack) #최하단 원소부터 출력"
      ]
    },
    {
      "cell_type": "markdown",
      "metadata": {},
      "source": [
        "<큐 자료구조>\n",
        "- 먼저 들어온 데이터가 먼저 나가는 형식(선입선출)의 자료구조\n",
        "- 큐는 입구와 출구가 모두 뚫려 있는 터널과 같은 형태로 시각화"
      ]
    },
    {
      "cell_type": "code",
      "execution_count": null,
      "metadata": {},
      "outputs": [],
      "source": [
        "from collections import deque\n",
        "\n",
        "queue = deque()\n",
        "\n",
        "queue.append(1)\n",
        "queue.popleft()\n",
        "\n",
        "print(queue) #먼저들어온 순서대로 출력\n",
        "queue.reverse() # 역순으로 바꾸기\n",
        "print(queue) # 나중에 들어온 원소 부터 출력"
      ]
    },
    {
      "cell_type": "markdown",
      "metadata": {},
      "source": [
        "<재귀 함수>\n",
        "- 자기 자신을 다시 호출하는 함수\n",
        "- 어느 정도 출력하다가 최대 재귀 깊이 초과 메세지가 출력합니다.\n",
        "- 재귀 함수를 잘 활용하면 복잡한 알고리즘 간결하게 작성 가능, 단 오히려 다른 사람이 이해하기 어려운 형태의 코드가 될수 있으므로 신중하게 사용\n",
        "- 모든 재귀 함수는 반복문을 이용하여 동일한 기능을 구현\n",
        "- 재귀 함수가 반복문보다 유리한 경우도 있고 불리한 경우도 있다.\n",
        "- 컴퓨터가 함수를 연속적으로 호출하면 컴퓨터 메모리 내부의 스택 프레임에 쌓입니다. 그래서 스택을 사용할때 구현상 스택 라이브러리 대신에 재귀함수를 이용하는 경우가 많다."
      ]
    },
    {
      "cell_type": "markdown",
      "metadata": {},
      "source": [
        "<DFS(Depth-First Search)>\n",
        "- 깊이 우선 탐색, 그래프에서 깊은 부분을 우선적으로 탐색하는 알고리즘\n",
        "- DFS는 스택 자료구조(혹은 재귀함수)를 이용\n",
        "1. 탐색 시작 노드를 스택에 삽입하고 방문 처리\n",
        "2. 스택의 최상단 노드에 방문하지 않은 인접한 노드가 하나라도 있으면 그 노드를 스택에 넣고 방문처리, 방문 하지 않은 인접노드가 없으면 스택에서 최상단 노드를 꺼낸다.\n",
        "3. 더이상 2번의 과정을 수행할수 없을때 까지 반복\n",
        "\n"
      ]
    },
    {
      "cell_type": "code",
      "execution_count": 1,
      "metadata": {},
      "outputs": [
        {
          "name": "stdout",
          "output_type": "stream",
          "text": [
            "1 2 7 6 8 3 4 5 "
          ]
        }
      ],
      "source": [
        "# DFS 메서드 정의\n",
        "def dfs(graph,v,visited):\n",
        "        # 현재 노드를 방문 처리\n",
        "        visited[v]= True\n",
        "        print(v,end=' ')\n",
        "        # 현재 노드와 연결된 다른 노드를 재귀적으로 방문\n",
        "        for i in graph[v]:\n",
        "                if not visited[i]:\n",
        "                        dfs(graph,i,visited)\n",
        "\n",
        "# 각 노드가 연결된 정보를 표현 (2차원 리스트)\n",
        "graph =[\n",
        "        [],\n",
        "        [2,3,8],\n",
        "        [1,7],\n",
        "        [1,4,5],\n",
        "        [3,5],\n",
        "        [3,4],\n",
        "        [7],\n",
        "        [2,6,8],\n",
        "        [1,7]\n",
        "]\n",
        "\n",
        "# 각 노드가 방문된 정보를 표현 (1차원 리스트)\n",
        "visited = [False]* 9\n",
        "\n",
        "# 정의된 DFS 함수 호출\n",
        "dfs(graph, 1 ,visited)\n"
      ]
    },
    {
      "cell_type": "markdown",
      "metadata": {},
      "source": [
        "<BFS(Breadth-First Search)>\n",
        "- 너비 우선 탐색, 그래프에서 가까운 노드 부터 우선적으로 탐색하는 알고리즘\n",
        "- 큐 자료구조 이용\n",
        "1. 탐색 시작 노드를 큐에 삽입하고 방문처리\n",
        "2. 큐에서 노드를 꺼낸 뒤에 해당 노드의 인접 노드 중에서 방문하지 않은 노드를 모두 큐에 삽입하고 방문 처리\n",
        "3. 더이상 2번의 과정을 수행할수 없을때 까지 반복"
      ]
    },
    {
      "cell_type": "code",
      "execution_count": 2,
      "metadata": {},
      "outputs": [
        {
          "name": "stdout",
          "output_type": "stream",
          "text": [
            "1 2 3 8 7 4 5 6 "
          ]
        }
      ],
      "source": [
        "from collections import deque\n",
        "\n",
        "#BFS 메서드 정의\n",
        "def bfs(graph,start,visited):\n",
        "    # 큐 구현 위해 deque 라이브러리 사용\n",
        "    queue = deque([start])\n",
        "    # 현재 노드를 방문 처리\n",
        "    visited[start] = True\n",
        "    # 큐가 빌때 까지 반복\n",
        "    while queue:\n",
        "        # 큐에서 하나의 원소를 뽑아 출력\n",
        "        v = queue.popleft()\n",
        "        print(v, end=' ')\n",
        "        # 아직 방문하지 않은 인접한 원소들을 큐에 삽입\n",
        "        for i in graph[v]:\n",
        "            if not visited[i]:\n",
        "                queue.append(i)\n",
        "                visited[i]=True\n",
        "                \n",
        "                \n",
        "# 각 노드가 연결된 정보를 표현 (2차원 리스트)\n",
        "graph =[\n",
        "        [],\n",
        "        [2,3,8],\n",
        "        [1,7],\n",
        "        [1,4,5],\n",
        "        [3,5],\n",
        "        [3,4],\n",
        "        [7],\n",
        "        [2,6,8],\n",
        "        [1,7]\n",
        "]\n",
        "\n",
        "# 각 노드가 방문된 정보를 표현 (1차원 리스트)\n",
        "visited = [False]* 9\n",
        "\n",
        "\n",
        "bfs(graph, 1 ,visited)"
      ]
    },
    {
      "cell_type": "markdown",
      "metadata": {},
      "source": [
        "# <문제> 음료수 얼려 먹기\n",
        "- N x M 크기의 얼음 틀이 있습니다.\n",
        "- 구멍이 뚫려있는 부분은 0, 칸막이가 존재하는 부분은 1로 표시\n",
        "- 구멍이 뚫려있는 부분 끼리 상,하,좌,우 로 붙어 있는 경우 서로 연결되어 있는 것으로 간주\n",
        "- 이떼, 얼음 틀의 모양이 주어졌을때 생성되는 총 아이스크림의 개수를 구하는 프로그램 작성"
      ]
    },
    {
      "cell_type": "markdown",
      "metadata": {},
      "source": [
        "[입력조건]\n",
        "- 첫번째 줄에 얼음틀의 세로길이 N 가로길이 M 이 주어진다.\n",
        "- 두번째 줄 부터 N+1 줄까지 얼음 틀의 형태가 주어진다.\n",
        "- 이때 구멍이 뚫려있는 부분은 0 , 그렇지 않은 부분은 1\n",
        "[출력조건]\n",
        "- 한번에 만들수 있는 아이스크림 갯수 출력\n",
        "[입력]\n",
        "4 5\n",
        "00110\n",
        "00011\n",
        "11111\n",
        "00000\n",
        "[출력]\n",
        "3"
      ]
    },
    {
      "cell_type": "code",
      "execution_count": null,
      "metadata": {},
      "outputs": [],
      "source": [
        "# DFS 로 특정 노드 를 방문하고 연결된 모든 노드들도 방문\n",
        "def dfs(x,y):\n",
        "    # 주어진 범위를 벗어나는 경우에는 즉시 종료\n",
        "    if x<=-1 or x>=n or y<=-1 or y>=m:\n",
        "        return False\n",
        "    # 현재 노드를 아직 방문 하지 않았다면\n",
        "    if graph[x][y] == 0:\n",
        "        graph[x][y]=1 # 해당 노드 방문 처리\n",
        "        dfs(x-1,y) # 좌\n",
        "        dfs(x,y-1) # 하\n",
        "        dfs(x+1,y) # 우\n",
        "        dfs(x,y+1) # 상\n",
        "        return True\n",
        "    return False\n",
        "\n",
        "# n,m 을 공백을 기준으로 구분하여 입력 받기\n",
        "n,m =map(int,input().split())\n",
        "\n",
        "# 2차원 리스트의 맵 정보 입력 받기\n",
        "graph=[]\n",
        "for i in range(n):\n",
        "    graph.append(list(map(int,input())))\n",
        "\n",
        "# 모든 노드(위치) 에 대하여 음료수 채우기\n",
        "result = 0\n",
        "for i in range(n):\n",
        "    for j in range(m):\n",
        "        # 현재 위치에서 DFS 수행\n",
        "        if dfs(i,j) == True:\n",
        "            result += 1\n",
        "            \n",
        "# 정답 출력\n",
        "print(result)"
      ]
    },
    {
      "cell_type": "markdown",
      "metadata": {},
      "source": [
        "# <문제> 미로탈출\n",
        "- 동빈이는 N x M 크기의 직사각형 형태의 미로에 갇혔다. 미로에는 여러마리 괴물이 있어 이를 피해 탈출해야 한다.\n",
        "- 동빈이의 위치는 (1,1)이며, 미로의 출구는 (N,M)의 위치에 존재하며 한번에 한칸씩 이동할 수 있다.\n",
        "- 이때 괴물이 있는 부분은 0 으로, 괴물이 없는 부분은 1로 표시\n",
        "- 미로는 반드시 탈출 할 수 있는 형태로 제시\n",
        "- 이때 동빈이가 탈출 하기 위해 움직여야 하는 최소 칸의 갯수\n",
        "- 칸을 셀 때는 시작칸과 마지막 칸을 모두 포함해서 계산"
      ]
    },
    {
      "cell_type": "markdown",
      "metadata": {},
      "source": [
        "[입력조건]\n",
        "- 첫번째 줄에 두 정수 N,M(4<=N,M<=200)\n",
        "- 다음 N 개의 줄에는 각각 M 개의 정수(0 혹은 1)로 미로의 정보\n",
        "- 각각의 수들을 공백 없이 붙어서 입력으로 제시\n",
        "- 시작칸과 마지막칸은 항상 1\n",
        "[출력조건]\n",
        "- 첫째줄에 최소 이동 칸의 개수 출력\n",
        "[입력]\n",
        "5 6\n",
        "101010\n",
        "111111\n",
        "000001\n",
        "111111\n",
        "111111\n",
        "[출력]\n",
        "10"
      ]
    },
    {
      "cell_type": "code",
      "execution_count": null,
      "metadata": {},
      "outputs": [],
      "source": []
    },
    {
      "cell_type": "markdown",
      "metadata": {},
      "source": [
        "## 정렬 알고리즘"
      ]
    },
    {
      "cell_type": "markdown",
      "metadata": {},
      "source": [
        "# <정렬 알고리즘>\n",
        "- 정렬 : 데이터를 특정한 기준에 따라 순서대로 나열\n",
        "- 일반적으로 문제상황에 따라서 적절한 정렬 알고리즘 이 공식처럼 사용"
      ]
    },
    {
      "cell_type": "markdown",
      "metadata": {},
      "source": [
        "# <선택 정렬>\n",
        "- 처리 되지 않은 데이터 중에서 가장 작은 데이터를 선택해 맨 앞에 있는 데이터와 바꾸는 것을 반복"
      ]
    },
    {
      "cell_type": "code",
      "execution_count": 1,
      "metadata": {},
      "outputs": [
        {
          "name": "stdout",
          "output_type": "stream",
          "text": [
            "[0, 1, 2, 3, 4, 5, 6, 7, 8, 9]\n"
          ]
        }
      ],
      "source": [
        "array = [7,5,9,0,3,1,6,2,4,8]\n",
        "\n",
        "for i in range(len(array)):\n",
        "    min_index = i # 가장 작은 원소의 인덱스\n",
        "    for j in range(i+1, len(array)):\n",
        "        if array[min_index] > array[j]:\n",
        "            min_index = j\n",
        "    array[i],array[min_index]= array[min_index],array[i] # 스와프\n",
        "    \n",
        "print(array)"
      ]
    },
    {
      "cell_type": "markdown",
      "metadata": {},
      "source": [
        "<선택 정렬의 시간 복잡도>\n",
        "- 선택 정렬은 n번 만큼 가장 작은 수를 찾아서 맨 앞으로 보내야 한다.\n",
        "- 구현 방식에 따라서 사소한 오차는 있을 수 있지만, 전체 연산 횟수\n",
        "- 빅오 표기법 : o(n2)"
      ]
    },
    {
      "cell_type": "markdown",
      "metadata": {},
      "source": [
        "# <삽입정렬>\n",
        "- 처리 되지 않은 데이터를 하나씩 골라 적절한 위치에 삽입\n",
        "- 선택 정렬에 비해 구현 난이도가 높지만 일반적으로 더 효율적으로 동작"
      ]
    },
    {
      "cell_type": "code",
      "execution_count": 2,
      "metadata": {},
      "outputs": [
        {
          "name": "stdout",
          "output_type": "stream",
          "text": [
            "[0, 1, 2, 3, 4, 5, 6, 7, 8, 9]\n"
          ]
        }
      ],
      "source": [
        "array = [7,5,9,0,3,1,6,2,4,8]\n",
        "\n",
        "for i in range(1,len(array)):\n",
        "    for j in range(i,0,-1): # 인덱스 i 부터 1까지 1씩 감소하며 반복 하는 문법\n",
        "        if array[j] < array[j-1]: # 한칸 씩 왼쪽으로 이동\n",
        "            array[j],array[j-1] = array[j-1], array[j]\n",
        "        else: # 자기보다 작은 데이터 만나면 그 위체에서 멈춤\n",
        "            break\n",
        "        \n",
        "        \n",
        "print(array)"
      ]
    },
    {
      "cell_type": "markdown",
      "metadata": {},
      "source": [
        "<삽입 정렬의 시간 복잡도>\n",
        "- 삽입 정렬의 시간 복잡도는 o(n2) 이며, 선택 정렬과 마찬 가지로 반복문이 두번 중첩되어 사용\n",
        "- 삽입 정렬은 현재 리스트의 데이터가 거의 정렬되어 있는 상태라면 매우 빠르게 동작합니다.\n",
        "    - 최선의 경우 o(n) 의 시간 복잡도를 가집니다.\n",
        "    - 이미 정렬되어 있는 상태에서 다시 삽입정렬을 수행한다면?"
      ]
    },
    {
      "cell_type": "markdown",
      "metadata": {},
      "source": [
        "# <퀵 정렬>\n",
        "- 기준 데이터를 설정하고 그 기준보다 큰 데이터와 작은 데이터의 위치를 바꾸는 방법\n",
        "- 일반적 상황에서 가장 많이 사용되는 정렬 알고리즘\n",
        "- 병합 정렬과 더불어 대부분의 프로그램 언어의 정렬 라이브러리의 근간이 되는 알고리즘\n",
        "- 가장 기본적인 퀵정렬은 첫번째 데이터를 기준 데이터(pivot)로 설정"
      ]
    },
    {
      "cell_type": "markdown",
      "metadata": {},
      "source": [
        "<퀵 정렬이 빠른 이유 : 직관적인 이유>\n",
        "- 이상 적인 경우 분할이 절반씩 일어난다면 전체 연산 횟수로 o(nlogn)을 기대\n"
      ]
    },
    {
      "cell_type": "markdown",
      "metadata": {},
      "source": [
        "<퀵 정렬의 시간 복잡도>\n",
        "- 퀵 정렬은 평균의 경우 o(logn)의 시간 복잡도\n",
        "- 하지만 최악의 경우 o(n2)의 시간 복잡도\n",
        "    - 첫번째 원소를 피벗으로 삼을때 , 이미 정렬된 배열에 대해서 퀵 정렬을 수행한다면?"
      ]
    },
    {
      "cell_type": "code",
      "execution_count": 3,
      "metadata": {},
      "outputs": [
        {
          "name": "stdout",
          "output_type": "stream",
          "text": [
            "[0, 1, 2, 3, 4, 5, 6, 7, 8, 9]\n"
          ]
        }
      ],
      "source": [
        "array = [5,7,9,0,3,1,6,2,4,8]\n",
        "\n",
        "def quick_sort(array,start,end):\n",
        "    if start >= end : # 원소가 1개인 경우 종료\n",
        "        return\n",
        "    pivot = start # 피벗은 첫번째 원소\n",
        "    left = start + 1\n",
        "    right = end\n",
        "    \n",
        "    while(left <= right):\n",
        "        # 피벗 보다 큰 데이터를 찾을 때 까지 반복\n",
        "        while(left <= end and array[left] <= array[pivot]):\n",
        "            left += 1\n",
        "        # 피벗보다 작은 데이터를 찾을때 까지 반복\n",
        "        while(right > start and array[right] >= array[pivot]):\n",
        "            right -= 1\n",
        "        if(left>right): # 엇갈렸다면 작은 데이터와 피벗을 교체\n",
        "            array[right],array[pivot] = array[pivot], array[right]\n",
        "        else: # 엇갈리지 않았다면 작은 데이터와 큰데이터를 교체\n",
        "            array[left], array[right] = array[right], array[left]\n",
        "    \n",
        "    \n",
        "    # 분할 이후 왼쪽 부분과 오른쪽 부분에서 각각 정렬 수행\n",
        "    quick_sort(array, start, right -1 )\n",
        "    quick_sort(array, right + 1 , end)\n",
        "\n",
        "quick_sort(array,0 ,len(array)-1)\n",
        "print(array)"
      ]
    },
    {
      "cell_type": "code",
      "execution_count": null,
      "metadata": {},
      "outputs": [],
      "source": []
    }
  ],
  "metadata": {
    "colab": {
      "collapsed_sections": [],
      "provenance": []
    },
    "kernelspec": {
      "display_name": "Python 3.9.12 ('base')",
      "language": "python",
      "name": "python3"
    },
    "language_info": {
      "codemirror_mode": {
        "name": "ipython",
        "version": 3
      },
      "file_extension": ".py",
      "mimetype": "text/x-python",
      "name": "python",
      "nbconvert_exporter": "python",
      "pygments_lexer": "ipython3",
      "version": "3.9.12"
    },
    "vscode": {
      "interpreter": {
        "hash": "f7a634d278dde729509e71b09cba49254fc826f4fac11460a75a02ac3f6f6bcc"
      }
    }
  },
  "nbformat": 4,
  "nbformat_minor": 0
}
