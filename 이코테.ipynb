{
  "cells": [
    {
      "cell_type": "code",
      "execution_count": 3,
      "metadata": {
        "id": "WSHayrDqzSHs"
      },
      "outputs": [],
      "source": [
        "import pandas as pd\n"
      ]
    },
    {
      "cell_type": "markdown",
      "metadata": {
        "id": "tHP3-T8my2Sy"
      },
      "source": [
        "## 13강 그리디 유형 문제 풀이\n",
        "\n",
        "- 그리디 알고리즘(탐욕법) 은 현재 상황에서 지금 당장 좋은 것만 고르는 방법을 의미\n",
        "- 일반적인 그리디 알고리즘은 문제를 풀기위한 최소한의 아이디어를 떠올릴 수 있는 능력을 요구\n"
      ]
    },
    {
      "cell_type": "markdown",
      "metadata": {
        "id": "ZQSOQv-ny-eZ"
      },
      "source": [
        "# <문제> 거스름돈\n",
        "\n",
        "당신은 음식점의 계산을 도와주는 점원입니다. 카운터에는 거스름돈으로 사용할 500원, 100원, 50원, 10원짜리 동전이 무한히 존재한다고 가정합니다. 손님에게 거슬러 주어야 할 돈이 N원일 때, 거슬러 주어야할 동전의 최소 개수를 구하시오.\n",
        "\n",
        "단, 거슬러 줘야 할 돈 N은 항상 10의 배수 입니다.\n",
        "\n",
        "시간제한: 없음"
      ]
    },
    {
      "cell_type": "code",
      "execution_count": 31,
      "metadata": {
        "colab": {
          "base_uri": "https://localhost:8080/"
        },
        "id": "iTueo3dbzBFN",
        "outputId": "6391c801-b9d4-457a-dc93-07c6b575b402"
      },
      "outputs": [
        {
          "name": "stdout",
          "output_type": "stream",
          "text": [
            "0 10 500 10 200202\n",
            "1 10 100 10 200202\n",
            "2 10 50 10 200202\n",
            "3 0 10 0 200203\n",
            "거슬러야할 동전 갯수:  200203\n",
            "작동시간: 0.00755 sec\n"
          ]
        }
      ],
      "source": [
        "import time \n",
        "\n",
        "start = time.time()\n",
        "\n",
        "# 답안 작성 부분 ===============\n",
        "\n",
        "# n 10의 배수\n",
        "n = 100101010\n",
        "coins =[500,100,50,10]\n",
        "count = 0\n",
        "\n",
        "for i,coin in enumerate(coins):\n",
        "  \n",
        "  mok= n//coin\n",
        "  na = n%coin\n",
        "  count += mok\n",
        "  n=na\n",
        "  print(i,n,coin,na,count)\n",
        "  if na == 0: break\n",
        "  \n",
        "\n",
        "print('거슬러야할 동전 갯수: ',count)\n",
        "\n",
        "\n",
        "\n",
        "# ==============================\n",
        "\n",
        "end = time.time()\n",
        "\n",
        "print(\"작동시간:\", f\"{end - start:.5f} sec\")"
      ]
    },
    {
      "cell_type": "markdown",
      "metadata": {
        "id": "eAWuMPK45D7U"
      },
      "source": [
        "# <문제> 1이 될 때 까지\n",
        "어떠한 수 N이 1이 될 때 까지 다음의 두 과정 중 하나를 반복적으로 선택해 수행하려 한다.\n",
        "\n",
        "단, 두번째 연산은 N이 K로 나누어 떨어질 때만 선택할 수 있음\n",
        "\n",
        "1) N에서 1을 뺀다.\n",
        "\n",
        "2) N을 K로 나눈다.\n",
        "\n",
        "N이 1이 될 때 까지 1번 혹은 2번의 과정을 수행해야하는 최소 횟수를 구하는 프로그램을 작성\n",
        "\n",
        "입력\n",
        "첫째 줄에 N(2<= N <= 100000)과 K(2 <= K <= 100000)가 공백으로 구분되며 각각 자연수로 주어짐\n",
        "\n",
        "이때, 입력으로 주어지는 N은 항상 K보다 크거나 같음"
      ]
    },
    {
      "cell_type": "code",
      "execution_count": 32,
      "metadata": {
        "colab": {
          "base_uri": "https://localhost:8080/"
        },
        "id": "bzBEFrjT5HZA",
        "outputId": "9980d028-6614-4358-e041-54b666b6e4da"
      },
      "outputs": [
        {
          "name": "stdout",
          "output_type": "stream",
          "text": [
            "10 5\n",
            "1\n",
            "작동시간: 0.00035 sec\n"
          ]
        }
      ],
      "source": [
        "import time \n",
        "\n",
        "\n",
        "n, k = map(int,input().split( ))\n",
        "start = time.time()\n",
        "\n",
        "# 답안 작성 부분 ===============\n",
        "\n",
        "count =0\n",
        "while 1:\n",
        "    target = (n//k)*k\n",
        "    count = n - target\n",
        "    n = target\n",
        "    if n <k : break\n",
        "    count +=1\n",
        "    n//=k\n",
        "count += (n-1)\n",
        "print(count)\n",
        "\n",
        "\n",
        "# ==============================\n",
        "\n",
        "end = time.time()\n",
        "\n",
        "print(\"작동시간:\", f\"{end - start:.5f} sec\")"
      ]
    },
    {
      "cell_type": "code",
      "execution_count": null,
      "metadata": {
        "id": "j6dBR4jk5ZPH"
      },
      "outputs": [],
      "source": []
    },
    {
      "cell_type": "markdown",
      "metadata": {
        "id": "Ubkqr9vNybjE"
      },
      "source": [
        "# <문제> 곱하기 혹은 더하기 : 문제 조건\n",
        "- 입력 조건 : 첫째 줄에 여러 개의 숫자로 구성된 하나의 문자열 S가 주어짐 ( 1<= S의 길이 <=20)\n",
        "- 출력 조건 : 첫째 줄에 만들어 질 수 있는 가장 큰수를 출력합니다."
      ]
    },
    {
      "cell_type": "code",
      "execution_count": 29,
      "metadata": {
        "id": "AsfXcUmwyW2e"
      },
      "outputs": [],
      "source": [
        "INPUT ='02984'"
      ]
    },
    {
      "cell_type": "code",
      "execution_count": 25,
      "metadata": {
        "id": "KLnhv8LH1qTL"
      },
      "outputs": [],
      "source": [
        "INPUT ='567'"
      ]
    },
    {
      "cell_type": "code",
      "execution_count": 30,
      "metadata": {
        "colab": {
          "base_uri": "https://localhost:8080/"
        },
        "id": "AauEo4bizKc7",
        "outputId": "9b185cce-a0b0-458a-af98-e8f6652efb44"
      },
      "outputs": [
        {
          "name": "stdout",
          "output_type": "stream",
          "text": [
            "start 1 2 0\n",
            "end 1 2 2\n",
            "start 2 9 2\n",
            "end 2 9 18\n",
            "start 3 8 18\n",
            "end 3 8 144\n",
            "start 4 4 144\n",
            "end 4 4 576\n",
            "OUTPUT 576\n"
          ]
        }
      ],
      "source": [
        "from re import S\n",
        "n = len(INPUT)\n",
        "sum = 0\n",
        "for i in range(1,n):\n",
        "  print('start',i,INPUT[i],sum)\n",
        "  if i == 1: # 시작일때\n",
        "    if int(INPUT[0]) == 0 or int(INPUT[1]) == 0: # # 현재 숫자가 0 일때 => +\n",
        "        sum = ( int(INPUT[0]) + int(INPUT[1]) )\n",
        "    else: # *\n",
        "        sum = ( int(INPUT[0]) * int(INPUT[1]) )\n",
        "  else: # 중간일때\n",
        "    if int(INPUT[i]) == 0: # 현재 숫자가 0 일때 => +\n",
        "      sum += int(INPUT[i])\n",
        "    else: # *\n",
        "      sum *= int(INPUT[i])\n",
        "  print('end',i,INPUT[i],sum)\n",
        "  \n",
        "print('OUTPUT',sum)"
      ]
    },
    {
      "cell_type": "markdown",
      "metadata": {},
      "source": [
        "# <문제> 모험가 길드"
      ]
    },
    {
      "cell_type": "markdown",
      "metadata": {},
      "source": [
        "- 한마을에 모험가 n 명 있다. 모험가 길드에서는 n명의 모험가를 대상으로 '공포도'를 측정했는데, '공포도'가 높은 모험가는 쉽게 공포를 느껴 위험 상황에서 제대로 대처할 능력이 떨어집니다.\n",
        "- 모험가 길드장인 동빈이는 모험가 그룹을 안전하게 구성하고자 공포도가 x인 모험가는 반드시 x명이상으로 구성한 모험가 그룹에 참여해야 여행을 떠날수 있도록 규정\n",
        "- 동빈이는 최대 몇개의 모험가 그룹을 만들수 있는지, n명의 모험가에 대한 정보가 주어졌을때, 여행을 떠날수 있는 그릅수의 최댓값을 구하는 프로그램"
      ]
    },
    {
      "cell_type": "code",
      "execution_count": 4,
      "metadata": {},
      "outputs": [],
      "source": [
        "n = int(input()) # 5\n",
        "data = list(map(int, input().split())) # 2 3 1 2 2\n"
      ]
    },
    {
      "cell_type": "code",
      "execution_count": 5,
      "metadata": {},
      "outputs": [
        {
          "name": "stdout",
          "output_type": "stream",
          "text": [
            "2\n"
          ]
        }
      ],
      "source": [
        "data.sort()\n",
        "\n",
        "result = 0 # 총 그룹 수\n",
        "count = 0 # 현재 그룹에 포함된 모험가의 수\n",
        "\n",
        "for i in data: # 공포도를 낮은 것 부터 하나씩 확인\n",
        "    count += 1 # 현재 그룹에 해당 모험가를 포함 시킴\n",
        "    if count >= i: # 현재 그룹에 포함된 모험가의 수가 현재의 공포도 이상이라면 그룹 결성\n",
        "        result+= 1 # 총 그룹수 증가\n",
        "        count = 0 # 현재 그룹에 포함된 모험가수 초기화\n",
        "\n",
        "print(result)"
      ]
    },
    {
      "cell_type": "code",
      "execution_count": null,
      "metadata": {},
      "outputs": [],
      "source": [
        "import time \n",
        "INPUT ='02984'\n",
        "INPUT ='567'\n",
        "\n",
        "start = time.time()\n",
        "\n",
        "# 답안 작성 부분 ===============\n",
        "from re import S\n",
        "INPUT = int(input())\n",
        "n = len(INPUT)\n",
        "sum = 0\n",
        "for i in range(1,n):\n",
        "  print('start',i,INPUT[i],sum)\n",
        "  if i == 1: # 시작일때\n",
        "    if int(INPUT[0]) == 0 or int(INPUT[1]) == 0: # # 현재 숫자가 0 일때 => +\n",
        "        sum = ( int(INPUT[0]) + int(INPUT[1]) )\n",
        "    else: # *\n",
        "        sum = ( int(INPUT[0]) * int(INPUT[1]) )\n",
        "  else: # 중간일때\n",
        "    if int(INPUT[i]) == 0: # 현재 숫자가 0 일때 => +\n",
        "      sum += int(INPUT[i])\n",
        "    else: # *\n",
        "      sum *= int(INPUT[i])\n",
        "  print('end',i,INPUT[i],sum)\n",
        "  \n",
        "print('OUTPUT',sum)\n",
        "\n",
        "\n",
        "\n",
        "# ==============================\n",
        "\n",
        "end = time.time()\n",
        "\n",
        "print(\"작동시간:\", f\"{end - start:.5f} sec\")"
      ]
    },
    {
      "cell_type": "markdown",
      "metadata": {},
      "source": [
        "14장. 구현"
      ]
    },
    {
      "cell_type": "markdown",
      "metadata": {},
      "source": [
        "# <문제> 상하좌우 "
      ]
    },
    {
      "cell_type": "markdown",
      "metadata": {},
      "source": [
        "- 여행가 a는 n x n 크기의 정사각형 공간 위에 서있습니다. 이공간은 1x1크기의 정사각형으로 나누어져있다. 가장 왼쪽 위 좌표는 (1,1)이며, 가장 오른쪽 아래 좌표는 (n,n)에 해당합니다. 여행가 a는 상,하,좌,우 방향으로 이동할 수 있으며, 시각좌표는 항상(1,1) 입니다. 우리 앞에는 여행가 A가 이동할 계획이 적힌 계획서가 놓여 있습니다.\n",
        "- 계획서에는 하나의 줄에 띄어쓰기를 기준으로 하여, L,R,U,D 중 하나의 문자가 반복적으로 적혀 있습니다.\n",
        "- L: 왼쪽으로 한칸 이동\n",
        "R: 오른쪽으로 한칸 이동\n",
        "U: 위로 한칸 이동\n",
        "D: 아래로 한칸 이동\n",
        "- 이때 여행가 N X N 크기의 정사각형 공간을 벗어나는 움직임은 무시됩니다.\n",
        "예로들면 (1,1) 위치에서 L 혹은 U를 만나면 무시됩니다."
      ]
    },
    {
      "cell_type": "code",
      "execution_count": null,
      "metadata": {},
      "outputs": [],
      "source": []
    },
    {
      "cell_type": "markdown",
      "metadata": {},
      "source": []
    },
    {
      "cell_type": "markdown",
      "metadata": {},
      "source": [
        "# <문제> 시각"
      ]
    }
  ],
  "metadata": {
    "colab": {
      "collapsed_sections": [],
      "provenance": []
    },
    "kernelspec": {
      "display_name": "Python 3.8.13 ('pytorch110_p38')",
      "language": "python",
      "name": "python3"
    },
    "language_info": {
      "codemirror_mode": {
        "name": "ipython",
        "version": 3
      },
      "file_extension": ".py",
      "mimetype": "text/x-python",
      "name": "python",
      "nbconvert_exporter": "python",
      "pygments_lexer": "ipython3",
      "version": "3.8.13"
    },
    "vscode": {
      "interpreter": {
        "hash": "75bf20f6bc0756670507be002b29a1c761efdef93541cfe27a610f128281b749"
      }
    }
  },
  "nbformat": 4,
  "nbformat_minor": 0
}
