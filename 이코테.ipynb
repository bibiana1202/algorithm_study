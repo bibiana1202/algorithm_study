{
  "nbformat": 4,
  "nbformat_minor": 0,
  "metadata": {
    "colab": {
      "provenance": [],
      "collapsed_sections": []
    },
    "kernelspec": {
      "name": "python3",
      "display_name": "Python 3"
    },
    "language_info": {
      "name": "python"
    }
  },
  "cells": [
    {
      "cell_type": "code",
      "source": [
        "import pandas as pd\n"
      ],
      "metadata": {
        "id": "WSHayrDqzSHs"
      },
      "execution_count": 3,
      "outputs": []
    },
    {
      "cell_type": "markdown",
      "source": [
        "## 13강 그리디 유형 문제 풀이\n",
        "\n",
        "- 그리디 알고리즘(탐욕법) 은 현재 상황에서 지금 당장 좋은 것만 고르는 방법을 의미\n",
        "- 일반적인 그리디 알고리즘은 문제를 풀기위한 최소한의 아이디어를 떠올릴 수 있는 능력을 요구\n"
      ],
      "metadata": {
        "id": "tHP3-T8my2Sy"
      }
    },
    {
      "cell_type": "markdown",
      "source": [
        "# <문제> 거스름돈\n",
        "\n",
        "당신은 음식점의 계산을 도와주는 점원입니다. 카운터에는 거스름돈으로 사용할 500원, 100원, 50원, 10원짜리 동전이 무한히 존재한다고 가정합니다. 손님에게 거슬러 주어야 할 돈이 N원일 때, 거슬러 주어야할 동전의 최소 개수를 구하시오.\n",
        "\n",
        "단, 거슬러 줘야 할 돈 N은 항상 10의 배수 입니다.\n",
        "\n",
        "시간제한: 없음"
      ],
      "metadata": {
        "id": "ZQSOQv-ny-eZ"
      }
    },
    {
      "cell_type": "code",
      "source": [
        "import time \n",
        "\n",
        "start = time.time()\n",
        "\n",
        "# 답안 작성 부분 ===============\n",
        "\n",
        "# n 10의 배수\n",
        "n = 100101010\n",
        "coins =[500,100,50,10]\n",
        "count = 0\n",
        "\n",
        "for i,coin in enumerate(coins):\n",
        "  \n",
        "  mok= n//coin\n",
        "  na = n%coin\n",
        "  count += mok\n",
        "  n=na\n",
        "  print(i,n,coin,na,count)\n",
        "  if na == 0: break\n",
        "  \n",
        "\n",
        "print('거슬러야할 동전 갯수: ',count)\n",
        "\n",
        "\n",
        "\n",
        "# ==============================\n",
        "\n",
        "end = time.time()\n",
        "\n",
        "print(\"작동시간:\", f\"{end - start:.5f} sec\")"
      ],
      "metadata": {
        "colab": {
          "base_uri": "https://localhost:8080/"
        },
        "id": "iTueo3dbzBFN",
        "outputId": "6391c801-b9d4-457a-dc93-07c6b575b402"
      },
      "execution_count": 31,
      "outputs": [
        {
          "output_type": "stream",
          "name": "stdout",
          "text": [
            "0 10 500 10 200202\n",
            "1 10 100 10 200202\n",
            "2 10 50 10 200202\n",
            "3 0 10 0 200203\n",
            "거슬러야할 동전 갯수:  200203\n",
            "작동시간: 0.00755 sec\n"
          ]
        }
      ]
    },
    {
      "cell_type": "markdown",
      "source": [
        "# <문제> 1이 될 때 까지\n",
        "어떠한 수 N이 1이 될 때 까지 다음의 두 과정 중 하나를 반복적으로 선택해 수행하려 한다.\n",
        "\n",
        "단, 두번째 연산은 N이 K로 나누어 떨어질 때만 선택할 수 있음\n",
        "\n",
        "1) N에서 1을 뺀다.\n",
        "\n",
        "2) N을 K로 나눈다.\n",
        "\n",
        "N이 1이 될 때 까지 1번 혹은 2번의 과정을 수행해야하는 최소 횟수를 구하는 프로그램을 작성\n",
        "\n",
        "입력\n",
        "첫째 줄에 N(2<= N <= 100000)과 K(2 <= K <= 100000)가 공백으로 구분되며 각각 자연수로 주어짐\n",
        "\n",
        "이때, 입력으로 주어지는 N은 항상 K보다 크거나 같음"
      ],
      "metadata": {
        "id": "eAWuMPK45D7U"
      }
    },
    {
      "cell_type": "code",
      "source": [
        "import time \n",
        "\n",
        "\n",
        "n, k = map(int,input().split( ))\n",
        "start = time.time()\n",
        "\n",
        "# 답안 작성 부분 ===============\n",
        "\n",
        "count =0\n",
        "while 1:\n",
        "    target = (n//k)*k\n",
        "    count = n - target\n",
        "    n = target\n",
        "    if n <k : break\n",
        "    count +=1\n",
        "    n//=k\n",
        "count += (n-1)\n",
        "print(count)\n",
        "\n",
        "\n",
        "# ==============================\n",
        "\n",
        "end = time.time()\n",
        "\n",
        "print(\"작동시간:\", f\"{end - start:.5f} sec\")"
      ],
      "metadata": {
        "colab": {
          "base_uri": "https://localhost:8080/"
        },
        "id": "bzBEFrjT5HZA",
        "outputId": "9980d028-6614-4358-e041-54b666b6e4da"
      },
      "execution_count": 32,
      "outputs": [
        {
          "output_type": "stream",
          "name": "stdout",
          "text": [
            "10 5\n",
            "1\n",
            "작동시간: 0.00035 sec\n"
          ]
        }
      ]
    },
    {
      "cell_type": "code",
      "source": [],
      "metadata": {
        "id": "j6dBR4jk5ZPH"
      },
      "execution_count": null,
      "outputs": []
    },
    {
      "cell_type": "markdown",
      "source": [
        "# <문제> 곱하기 혹은 더하기 : 문제 조건\n",
        "- 입력 조건 : 첫째 줄에 여러 개의 숫자로 구성된 하나의 문자열 S가 주어짐 ( 1<= S의 길이 <=20)\n",
        "- 출력 조건 : 첫째 줄에 만들어 질 수 있는 가장 큰수를 출력합니다."
      ],
      "metadata": {
        "id": "Ubkqr9vNybjE"
      }
    },
    {
      "cell_type": "code",
      "execution_count": 29,
      "metadata": {
        "id": "AsfXcUmwyW2e"
      },
      "outputs": [],
      "source": [
        "INPUT ='02984'"
      ]
    },
    {
      "cell_type": "code",
      "source": [
        "INPUT ='567'"
      ],
      "metadata": {
        "id": "KLnhv8LH1qTL"
      },
      "execution_count": 25,
      "outputs": []
    },
    {
      "cell_type": "code",
      "source": [
        "from re import S\n",
        "n = len(INPUT)\n",
        "sum = 0\n",
        "for i in range(1,n):\n",
        "  print('start',i,INPUT[i],sum)\n",
        "  if i == 1: # 시작일때\n",
        "    if int(INPUT[0]) == 0 or int(INPUT[1]) == 0: # # 현재 숫자가 0 일때 => +\n",
        "        sum = ( int(INPUT[0]) + int(INPUT[1]) )\n",
        "    else: # *\n",
        "        sum = ( int(INPUT[0]) * int(INPUT[1]) )\n",
        "  else: # 중간일때\n",
        "    if int(INPUT[i]) == 0: # 현재 숫자가 0 일때 => +\n",
        "      sum += int(INPUT[i])\n",
        "    else: # *\n",
        "      sum *= int(INPUT[i])\n",
        "  print('end',i,INPUT[i],sum)\n",
        "  \n",
        "print('OUTPUT',sum)"
      ],
      "metadata": {
        "colab": {
          "base_uri": "https://localhost:8080/"
        },
        "id": "AauEo4bizKc7",
        "outputId": "9b185cce-a0b0-458a-af98-e8f6652efb44"
      },
      "execution_count": 30,
      "outputs": [
        {
          "output_type": "stream",
          "name": "stdout",
          "text": [
            "start 1 2 0\n",
            "end 1 2 2\n",
            "start 2 9 2\n",
            "end 2 9 18\n",
            "start 3 8 18\n",
            "end 3 8 144\n",
            "start 4 4 144\n",
            "end 4 4 576\n",
            "OUTPUT 576\n"
          ]
        }
      ]
    }
  ]
}